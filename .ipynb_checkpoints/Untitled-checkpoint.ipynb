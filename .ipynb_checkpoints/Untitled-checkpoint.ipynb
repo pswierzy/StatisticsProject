{
 "cells": [
  {
   "cell_type": "markdown",
   "id": "5b553a67-8842-4e31-bddf-3d098a331dcc",
   "metadata": {},
   "source": [
    "# WSTĘP\n",
    "Projekt na przedmiot Rachunek prawdopodobieństwa i statystyka 2024/2025.\n",
    "Obejmuje on analizę statystyczną ceny mieszkań i ich danych w wybranych miastach w Polsce.\n",
    "Źródło opracowanych danych *https://www.kaggle.com/datasets/krzysztofjamroz/apartment-prices-in-poland/data*"
   ]
  },
  {
   "cell_type": "markdown",
   "id": "d9606c16-9dec-4e34-94d8-959bca59be44",
   "metadata": {},
   "source": [
    "# Początek\n",
    "Importuję potrzebne mi biblioteki"
   ]
  },
  {
   "cell_type": "code",
   "execution_count": 1,
   "id": "c5f745ed-3f17-4605-af2f-8c63811f07fb",
   "metadata": {},
   "outputs": [],
   "source": [
    "import pandas as pd\n",
    "import sqlite3\n",
    "import glob\n",
    "import os"
   ]
  },
  {
   "cell_type": "markdown",
   "id": "0bb40a15-a893-4472-b00f-e2ca5df4f72e",
   "metadata": {},
   "source": [
    "Zgrywamy teraz dane z plików .csv do bazy SQLite i je czyścimy"
   ]
  },
  {
   "cell_type": "code",
   "execution_count": 2,
   "id": "26471da1-0332-4727-a1ed-00866532f379",
   "metadata": {},
   "outputs": [],
   "source": [
    "data_directory = './data'\n",
    "conn = sqlite3.connect('apartments.db')\n",
    "    \n",
    "# Wczytanie plików ze sprzedażą mieszkań\n",
    "sale_files = glob.glob(os.path.join(data_directory, 'apartments_pl_*.csv'))\n",
    "  \n",
    "for file in sale_files:\n",
    "    # Wczytanie danych\n",
    "    df = pd.read_csv(file)\n",
    "    \n",
    "    # CZYSZCZENIE DANYCH\n",
    "    # Puste miejsca w bazie wypełniamy gdzie ma to sens\n",
    "    df['type'] = df['type'].fillna('unknown')\n",
    "    df['buildingMaterial'] = df['buildingMaterial'].fillna('other')\n",
    "    df['hasElevator'] = df['hasElevator'].fillna('no')\n",
    "\n",
    "    # Zamieniamy dane z 'no' i 'yes' na 0 i 1\n",
    "    columns_to_change = ['hasParkingSpace', 'hasBalcony', 'hasSecurity','hasStorageRoom','hasElevator']\n",
    "    maping = {'yes': 1, 'no': 0}\n",
    "    df[columns_to_change] = df[columns_to_change].map(lambda x: maping.get(x, x))\n",
    "\n",
    "\n",
    "    # Usuwanie niepotrzebnych kolumn / kolumn z dużą ilością nulli\n",
    "    rare_columns = ['clinicDistance','kindergartenDistance','condition','longitude', 'latitude',\n",
    "                    'restaurantDistance','pharmacyDistance','postOfficeDistance','ownership']\n",
    "    df = df.drop(columns=rare_columns)\n",
    "    \n",
    "    # Dodanie kolumny z datą (z nazwy pliku)\n",
    "    filename = os.path.basename(file)\n",
    "    date = filename.split('_')[2:4]  # Wyciąga YYYY_MM z nazwy\n",
    "    df['date'] = f\"{date[0]}-{date[1].split('.')[0]}\"\n",
    "        \n",
    "    # Zapis do bazy\n",
    "    df.to_sql('apartments_sale', conn, if_exists='append', index=False)"
   ]
  },
  {
   "cell_type": "markdown",
   "id": "84e7bdec-3911-452b-b918-db03a4bb45fa",
   "metadata": {},
   "source": [
    "Tworzymy jeszcze indeksy i zamykamy connection"
   ]
  },
  {
   "cell_type": "code",
   "execution_count": 3,
   "id": "b12c1423-e8a6-4a6e-b514-61d8b12bc458",
   "metadata": {},
   "outputs": [],
   "source": [
    "cursor = conn.cursor()\n",
    "    \n",
    "\n",
    "cursor.execute(f\"\"\"\n",
    "    CREATE INDEX IF NOT EXISTS idx_apartments_sale_city \n",
    "    ON apartments_sale(city)\n",
    "\"\"\")\n",
    "cursor.execute(f\"\"\"\n",
    "    CREATE INDEX IF NOT EXISTS idx_apartments_sale_date \n",
    "    ON apartments_sale(date)\n",
    "\"\"\")\n",
    "\n",
    "conn.commit()\n",
    "conn.close()"
   ]
  },
  {
   "cell_type": "markdown",
   "id": "8e32f08e-6921-4a53-91dd-545e1724ffd0",
   "metadata": {},
   "source": [
    "# Analiza eksploracyjna\n",
    "Na początek dodam DataFrame, na którym będziemy pracować"
   ]
  },
  {
   "cell_type": "code",
   "execution_count": 4,
   "id": "272fb185-f74f-4dd5-88f1-e0fa9646409f",
   "metadata": {},
   "outputs": [],
   "source": [
    "conn = sqlite3.connect('apartments.db')\n",
    "query = \"SELECT * FROM apartments_sale\"\n",
    "data_frame = pd.read_sql_query(query, conn)"
   ]
  },
  {
   "cell_type": "markdown",
   "id": "c57df467-9a64-4de9-823a-b89c797d5816",
   "metadata": {},
   "source": [
    "### Analiza statystyki opisowej dla wybranych kolumny\n",
    "W tej części kodu wybrałem sześć kolumn, które uznałem za istotne do dalszej analizy:\n",
    "- `price` (cena)\n",
    "- `squareMeters` (powierzchnia mieszkania)\n",
    "- `rooms` (liczba pokoi)\n",
    "- `buildYear` (rok budowy)\n",
    "- `floor` (piętro)\n",
    "- `floorCount` (liczba pięter w budynku)\n",
    "\n",
    "Następnie wykonałem analizę statystyczną dla tych kolumn, używając funkcji `describe()`, która generuje miary położenia (takie jak średnia), miary rozproszenia (takie jak odchylenie standardowe) oraz inne istotne informacje, np. minimum, maksimum, mediana.\n",
    "\n",
    "Na koniec, dla czytelności, zaokrąglam wyniki do dwóch miejsc po przecinku."
   ]
  },
  {
   "cell_type": "code",
   "execution_count": 5,
   "id": "f846cdeb-8557-4244-88cd-9ac96c4b9a3e",
   "metadata": {},
   "outputs": [
    {
     "name": "stdout",
     "output_type": "stream",
     "text": [
      "            price  squareMeters     rooms  buildYear     floor  floorCount\n",
      "count    21501.00      21501.00  21501.00   18121.00  17928.00    21292.00\n",
      "mean    823867.94         56.97      2.62    1986.77      3.40        5.47\n",
      "std     431126.67         20.62      0.89      32.80      2.61        3.41\n",
      "min     191000.00         25.00      1.00    1850.00      1.00        1.00\n",
      "25%     549000.00         42.69      2.00    1969.00      2.00        3.00\n",
      "50%     721824.00         52.81      3.00    1993.00      3.00        4.00\n",
      "75%     965000.00         66.30      3.00    2016.00      4.00        7.00\n",
      "max    3000000.00        150.00      6.00    2024.00     29.00       29.00\n"
     ]
    }
   ],
   "source": [
    "important_columns = ['price', 'squareMeters', 'rooms', 'buildYear', 'floor', 'floorCount']\n",
    "stats = df[important_columns].describe().round(2)\n",
    "print(stats)"
   ]
  },
  {
   "cell_type": "code",
   "execution_count": null,
   "id": "5cfcd4a6-b1e7-43db-b8e6-58ac0fd80a7a",
   "metadata": {},
   "outputs": [],
   "source": []
  }
 ],
 "metadata": {
  "kernelspec": {
   "display_name": "Python 3 (ipykernel)",
   "language": "python",
   "name": "python3"
  },
  "language_info": {
   "codemirror_mode": {
    "name": "ipython",
    "version": 3
   },
   "file_extension": ".py",
   "mimetype": "text/x-python",
   "name": "python",
   "nbconvert_exporter": "python",
   "pygments_lexer": "ipython3",
   "version": "3.11.9"
  }
 },
 "nbformat": 4,
 "nbformat_minor": 5
}
