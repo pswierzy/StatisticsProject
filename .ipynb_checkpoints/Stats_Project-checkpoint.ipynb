{
 "cells": [
  {
   "cell_type": "markdown",
   "id": "5b553a67-8842-4e31-bddf-3d098a331dcc",
   "metadata": {},
   "source": [
    "# WSTĘP\n",
    "Projekt na przedmiot Rachunek prawdopodobieństwa i statystyka 2024/2025.\n",
    "Obejmuje on analizę statystyczną ceny mieszkań i ich danych w wybranych miastach w Polsce.\n",
    "Źródło opracowanych danych *https://www.kaggle.com/datasets/krzysztofjamroz/apartment-prices-in-poland/data*"
   ]
  },
  {
   "cell_type": "markdown",
   "id": "d9606c16-9dec-4e34-94d8-959bca59be44",
   "metadata": {},
   "source": [
    "# Wczytanie danych\n",
    "Importuję potrzebne mi biblioteki."
   ]
  },
  {
   "cell_type": "code",
   "execution_count": null,
   "id": "c5f745ed-3f17-4605-af2f-8c63811f07fb",
   "metadata": {},
   "outputs": [],
   "source": [
    "import pandas as pd\n",
    "import sqlite3\n",
    "import glob\n",
    "import os\n",
    "import seaborn as sns\n",
    "import matplotlib.pyplot as plt\n",
    "import matplotlib.ticker as tick\n",
    "import numpy as np"
   ]
  },
  {
   "cell_type": "markdown",
   "id": "0bb40a15-a893-4472-b00f-e2ca5df4f72e",
   "metadata": {},
   "source": [
    "Zgrywamy teraz dane z plików .csv do bazy SQLite i je czyścimy."
   ]
  },
  {
   "cell_type": "code",
   "execution_count": null,
   "id": "26471da1-0332-4727-a1ed-00866532f379",
   "metadata": {},
   "outputs": [],
   "source": [
    "data_directory = './data'\n",
    "conn = sqlite3.connect('apartments.db')\n",
    "\n",
    "# Wczytanie plików ze sprzedażą mieszkań\n",
    "sale_files = glob.glob(os.path.join(data_directory, 'apartments_pl_*.csv'))\n",
    "\n",
    "# Pobranie wszystkich tabel w bazie danych\n",
    "cursor = conn.cursor()\n",
    "cursor.execute(\"SELECT name FROM sqlite_master WHERE type='table';\")\n",
    "tables = cursor.fetchall()\n",
    "\n",
    "# Usunięcie każdej tabeli\n",
    "for table in tables:\n",
    "    table_name = table[0]\n",
    "    cursor.execute(f\"DROP TABLE IF EXISTS {table_name}\")\n",
    "    print(f\"Tabela {table_name} została usunięta.\")\n",
    "\n",
    "# Wczytanie nowych danych\n",
    "for file in sale_files:\n",
    "    # Wczytanie danych\n",
    "    df = pd.read_csv(file)\n",
    "    \n",
    "    # CZYSZCZENIE DANYCH\n",
    "    # Puste miejsca w bazie wypełniamy gdzie ma to sens\n",
    "    df['type'] = df['type'].fillna('unknown')\n",
    "    df['buildingMaterial'] = df['buildingMaterial'].fillna('other')\n",
    "    df['hasElevator'] = df['hasElevator'].fillna('no')\n",
    "\n",
    "    # Zamieniamy dane z 'no' i 'yes' na 0 i 1\n",
    "    columns_to_change = ['hasParkingSpace', 'hasBalcony', 'hasSecurity','hasStorageRoom','hasElevator']\n",
    "    maping = {'yes': 1, 'no': 0}\n",
    "    df[columns_to_change] = df[columns_to_change].map(lambda x: maping.get(x, x))\n",
    "\n",
    "\n",
    "    # Usuwanie niepotrzebnych kolumn / kolumn z dużą ilością nulli\n",
    "    rare_columns = ['clinicDistance','kindergartenDistance','condition','longitude', 'latitude',\n",
    "                    'restaurantDistance','pharmacyDistance','postOfficeDistance','ownership']\n",
    "    df = df.drop(columns=rare_columns)\n",
    "    \n",
    "    # Dodanie kolumny z datą (z nazwy pliku)\n",
    "    filename = os.path.basename(file)\n",
    "    date = filename.split('_')[2:4]  # Wyciąga YYYY_MM z nazwy\n",
    "    df['date'] = f\"{date[0]}-{date[1].split('.')[0]}\"\n",
    "        \n",
    "    # Zapis do bazy\n",
    "    df.to_sql('apartments_sale', conn, if_exists='append', index=False)"
   ]
  },
  {
   "cell_type": "markdown",
   "id": "84e7bdec-3911-452b-b918-db03a4bb45fa",
   "metadata": {},
   "source": [
    "Tworzymy jeszcze indeksy i zamykamy connection."
   ]
  },
  {
   "cell_type": "code",
   "execution_count": null,
   "id": "b12c1423-e8a6-4a6e-b514-61d8b12bc458",
   "metadata": {},
   "outputs": [],
   "source": [
    "cursor = conn.cursor()\n",
    "    \n",
    "\n",
    "cursor.execute(f\"\"\"\n",
    "    CREATE INDEX IF NOT EXISTS idx_apartments_sale_city \n",
    "    ON apartments_sale(city)\n",
    "\"\"\")\n",
    "cursor.execute(f\"\"\"\n",
    "    CREATE INDEX IF NOT EXISTS idx_apartments_sale_date \n",
    "    ON apartments_sale(date)\n",
    "\"\"\")\n",
    "\n",
    "conn.commit()\n",
    "conn.close()"
   ]
  },
  {
   "cell_type": "markdown",
   "id": "8e32f08e-6921-4a53-91dd-545e1724ffd0",
   "metadata": {},
   "source": [
    "# Analiza eksploracyjna\n",
    "Na początek dodam DataFrame, na którym będziemy pracować."
   ]
  },
  {
   "cell_type": "code",
   "execution_count": null,
   "id": "272fb185-f74f-4dd5-88f1-e0fa9646409f",
   "metadata": {},
   "outputs": [],
   "source": [
    "conn = sqlite3.connect('apartments.db')\n",
    "query = \"SELECT * FROM apartments_sale\"\n",
    "data_frame = pd.read_sql_query(query, conn)"
   ]
  },
  {
   "cell_type": "markdown",
   "id": "c57df467-9a64-4de9-823a-b89c797d5816",
   "metadata": {},
   "source": [
    "### Analiza statystyki opisowej dla wybranych kolumny\n",
    "W tej części kodu wybrałem sześć kolumn, które uznałem za istotne do dalszej analizy:\n",
    "- `price` (cena)\n",
    "- `squareMeters` (powierzchnia mieszkania)\n",
    "- `rooms` (liczba pokoi)\n",
    "- `buildYear` (rok budowy)\n",
    "- `floor` (piętro)\n",
    "- `floorCount` (liczba pięter w budynku)\n",
    "\n",
    "Następnie wykonałem analizę statystyczną dla tych kolumn, używając funkcji `describe()`, która generuje miary położenia (takie jak średnia), miary rozproszenia (takie jak odchylenie standardowe) oraz inne istotne informacje, np. minimum, maksimum, mediana.\n",
    "\n",
    "Na koniec, dla czytelności, zaokrąglam wyniki do dwóch miejsc po przecinku."
   ]
  },
  {
   "cell_type": "code",
   "execution_count": null,
   "id": "f846cdeb-8557-4244-88cd-9ac96c4b9a3e",
   "metadata": {},
   "outputs": [],
   "source": [
    "important_columns = ['price', 'squareMeters', 'rooms', 'buildYear', 'floor', 'floorCount']\n",
    "stats = data_frame[important_columns].describe().round(2)\n",
    "print(stats)"
   ]
  },
  {
   "cell_type": "markdown",
   "id": "5ac688e6-bfdd-4491-8e94-87f9cdff2565",
   "metadata": {},
   "source": [
    "Widać tutaj że odchylenie standardowe danych jest dość spore, co oznacza duże zróżnicowanie danych w kolumnach `price`, `squareMeters`, `buildYear`, `floor`, `floorCount`."
   ]
  },
  {
   "cell_type": "markdown",
   "id": "fb0e968c-b4b8-4ae7-9717-46944cfaf56e",
   "metadata": {},
   "source": [
    "### Wizualizacja ilości mieszkań w bazie danych w poszczególnych miastach\n",
    "\n",
    "W tym kodzie utworzyłem wykres słupkowy przedstawiający liczbę mieszkań w poszczególnych miastach w bazie danych, aby zobaczyć jaką mamy wielkość próbki."
   ]
  },
  {
   "cell_type": "code",
   "execution_count": null,
   "id": "47defc54-5bd4-47f3-96bd-f0b1fe9d86d9",
   "metadata": {},
   "outputs": [],
   "source": [
    "plt.figure(figsize = (10,5))\n",
    "df = data_frame.groupby(['city'])['id'].count().reset_index()\n",
    "df = df.sort_values(by = 'id')\n",
    "\n",
    "plt.xlabel('Miasto')\n",
    "plt.ylabel('Ilość mieszkań')\n",
    "plt.title('Ilość mieszkań w bazie danych w poszczególnych miastach')\n",
    "\n",
    "axis = plt.gca()\n",
    "axis.yaxis.set_major_formatter(tick.FuncFormatter(lambda x, _: f'{int(x):,}'.replace(',', ' ')))\n",
    "\n",
    "plt.bar(df['city'], df['id'])\n",
    "    \n",
    "plt.grid(True, axis='y', linestyle = ':', alpha=0.5)\n",
    "plt.xticks(rotation = 45)\n",
    "plt.tight_layout()\n",
    "plt.show()"
   ]
  },
  {
   "cell_type": "markdown",
   "id": "ab6eaf13-31c3-4efa-ae04-7c745abd760b",
   "metadata": {},
   "source": [
    "### Wizualizacja ilości mieszkań w bazie danych w poszczególnych miesiącach\n",
    "\n",
    "W tym kodzie utworzyłem wykres słupkowy przedstawiający liczbę mieszkań w poszczególnych miesiącach w bazie danych, aby zobaczyć jaką mamy wielkość próbki."
   ]
  },
  {
   "cell_type": "code",
   "execution_count": null,
   "id": "888eb348-c9a7-4268-8773-6f5560ea1ee3",
   "metadata": {},
   "outputs": [],
   "source": [
    "plt.figure(figsize = (10,5))\n",
    "df = data_frame.groupby(['date'])['price'].count().reset_index()\n",
    "df = df.sort_values(by = 'date')\n",
    "\n",
    "plt.xlabel('Data')\n",
    "plt.ylabel('Ilość mieszkań')\n",
    "plt.title('Ilość mieszkań w bazie danych w poszczególnych miesiącach')\n",
    "\n",
    "axis = plt.gca()\n",
    "axis.yaxis.set_major_formatter(tick.FuncFormatter(lambda x, _: f'{int(x):,}'.replace(',', ' ')))\n",
    "\n",
    "plt.bar(df['date'], df['price'])\n",
    "    \n",
    "plt.grid(True, axis='y', linestyle = ':', alpha=0.5)\n",
    "plt.xticks(rotation = 45)\n",
    "plt.tight_layout()\n",
    "plt.show()"
   ]
  },
  {
   "cell_type": "markdown",
   "id": "53cb35c4-6c39-49f1-a3ac-54429d3f6b4c",
   "metadata": {},
   "source": [
    "### Wizualizacja punktowa mieszkań\n",
    "Ten kod generuje wykres rozkładu punktowego (scatter plot) dla danych dotyczących mieszkań. Oś X reprezentuje powierzchnię mieszkań w metrach kwadratowych (`squareMeters`), a oś Y przedstawia cenę mieszkań (`price`)."
   ]
  },
  {
   "cell_type": "code",
   "execution_count": null,
   "id": "978c22d7-05b5-4e5f-9024-9168a34aebf5",
   "metadata": {},
   "outputs": [],
   "source": [
    "plt.figure(figsize = (10,8))\n",
    "sns.scatterplot(data=data_frame, x='squareMeters', y='price', alpha=0.3)\n",
    "sns.regplot(data=data_frame, x='squareMeters', y='price', scatter=False, color='red', line_kws={\"lw\": 2})\n",
    "\n",
    "plt.title('Rozkład punktowy mieszkań')\n",
    "    \n",
    "axis = plt.gca()\n",
    "axis.yaxis.set_major_formatter(tick.FuncFormatter(lambda x, _: f'{int(x):,}'.replace(',', ' ')))\n",
    "\n",
    "plt.grid(True, axis='y', linestyle='--', alpha=0.5)\n",
    "plt.xticks(rotation = 45)\n",
    " \n",
    "plt.tight_layout()\n",
    "plt.show()"
   ]
  },
  {
   "cell_type": "markdown",
   "id": "fa4614ee-a738-47ce-845a-3932275cef1f",
   "metadata": {},
   "source": [
    "### Wykres wielkości mieszkań\n",
    "Ten kod rysuje histogram przedstawiający rozkład powierzchni mieszkań (squareMeters) w całej bazie danych. Histogram pomoże zobaczyć, jakie powierzchnie mieszkań występują najczęściej."
   ]
  },
  {
   "cell_type": "code",
   "execution_count": null,
   "id": "7f37a61c-14c0-4243-90c0-6cb83f635a61",
   "metadata": {},
   "outputs": [],
   "source": [
    "plt.figure(figsize=(10,3))\n",
    "plt.title(\"Rozmiar mieszkania\")\n",
    "plt.hist(data_frame['squareMeters'], bins=20)\n",
    "    \n",
    "plt.tight_layout()\n",
    "plt.show()"
   ]
  },
  {
   "cell_type": "markdown",
   "id": "7f2bf48e-8d4c-4b54-95f1-9bcc6150ff06",
   "metadata": {},
   "source": [
    "### Wizualizacja ceny mieszkań w poszczególnych miastach\n",
    "\n",
    "W tym kodzie generujemy wykres pudełkowy (boxplot), który pokazuje rozkład cen mieszkań w różnych miastach. Wykres ten dostarcza istotnych informacji na temat rozkładu cen mieszkań w różnych miastach, pozwalając na porównanie, w których miastach ceny są wyższe, a gdzie niższe, oraz gdzie znajdują się ekstremalne wartości (np. bardzo drogie lub tanie mieszkania)."
   ]
  },
  {
   "cell_type": "code",
   "execution_count": null,
   "id": "d6616c66-a7e7-4d30-aab1-0b1d14a69194",
   "metadata": {},
   "outputs": [],
   "source": [
    "df = data_frame.sort_values(by = 'price', ascending = False)\n",
    "plt.figure(figsize=(10, 8))\n",
    "sns.boxplot(x = 'city', y='price', data = df, hue = 'city', palette = 'viridis', dodge = False)\n",
    "\n",
    "plt.xlabel('Miasto')\n",
    "plt.ylabel('Cena mieszkania (PLN)')\n",
    "plt.title('Rozkład cen mieszkań w zależności od miasta')\n",
    "\n",
    "axis = plt.gca()\n",
    "axis.yaxis.set_major_formatter(tick.FuncFormatter(lambda x, _: f'{int(x):,}'.replace(',', ' ')))\n",
    "\n",
    "plt.grid(True, axis='y', linestyle = ':', alpha=0.5)\n",
    "plt.xticks(rotation = 45)\n",
    "\n",
    "plt.tight_layout()\n",
    "plt.show()"
   ]
  },
  {
   "cell_type": "markdown",
   "id": "d6fec50f-f261-4329-9ac6-52d89a2975b1",
   "metadata": {},
   "source": [
    "W tym kodzie również generujemy wykres pudełkowy (boxplot), który tym razem pokazuje rozkład cen metra kwadratowego w różnych miastach."
   ]
  },
  {
   "cell_type": "code",
   "execution_count": null,
   "id": "9594dd3f-03d1-43f9-83c5-1d88b0f1d4bd",
   "metadata": {},
   "outputs": [],
   "source": [
    "df['price_per_sqm'] = df['price'] / df['squareMeters']\n",
    "plt.figure(figsize=(10, 8))\n",
    "sns.boxplot(x = 'city', y='price_per_sqm', data = df, hue = 'city', palette = 'viridis', dodge = False)\n",
    "\n",
    "plt.xlabel('Miasto')\n",
    "plt.ylabel('Cena metra kwadratowego (PLN)')\n",
    "plt.title('Rozkład cen metra kwadratowego w zależności od miasta')\n",
    "\n",
    "axis = plt.gca()\n",
    "axis.yaxis.set_major_formatter(tick.FuncFormatter(lambda x, _: f'{int(x):,}'.replace(',', ' ')))\n",
    "\n",
    "plt.grid(True, axis='y', linestyle = ':', alpha=0.5)\n",
    "plt.xticks(rotation = 45)\n",
    "\n",
    "plt.tight_layout()\n",
    "plt.show()"
   ]
  },
  {
   "cell_type": "markdown",
   "id": "54c25c4c-5571-4501-b88a-74dd8f831d1e",
   "metadata": {},
   "source": [
    "Kolejny wyres analizuje, ile średnich pensji (na rękę) potrzeba w różnych polskich miastach, aby kupić 1 metr kwadratowy mieszkania. Porównuje to z dwoma rodzajami wynagrodzenia:"
   ]
  },
  {
   "cell_type": "code",
   "execution_count": null,
   "id": "07df3d58-7b7a-48ec-8881-e3e92101b032",
   "metadata": {},
   "outputs": [],
   "source": [
    "salary_map = {\n",
    "    'warszawa': 7178,\n",
    "    'krakow': 7591,\n",
    "    'gdansk': 7284,\n",
    "    'wroclaw': 6509,\n",
    "    'poznan': 6186,\n",
    "    'szczecin': 6040,\n",
    "    'katowice': 6429,\n",
    "    'bialystok': 4854,\n",
    "    'rzeszow': 5979,\n",
    "    'lublin': 5455,\n",
    "    'lodz': 5567,\n",
    "    'bydgoszcz': 5476\n",
    "}\n",
    "it_salary_map = {\n",
    "    'warszawa': 9887,\n",
    "    'krakow': 10009,\n",
    "    'gdansk': 8486,\n",
    "    'gdynia': 8486,\n",
    "    'wroclaw': 9371,\n",
    "    'poznan': 8591,\n",
    "    'szczecin': 8206,\n",
    "    'czestochowa': 7977,\n",
    "    'katowice': 8293,\n",
    "    'bialystok': 4854,\n",
    "    'rzeszow': 5793,\n",
    "    'lublin': 6976,\n",
    "    'lodz': 8997,\n",
    "    'bydgoszcz': 8852,\n",
    "}"
   ]
  },
  {
   "cell_type": "markdown",
   "id": "4e1cf2cf-4601-411b-bfbf-b65f48650835",
   "metadata": {},
   "source": [
    "Średnie wynagrodzenie w danym mieście. (źródło: *https://300gospodarka.pl/news/oto-mapa-polskich-plac-mamy-nowy-ranking-zarobkow-w-najwiekszych-miastach-grafika*, *https://zarobki.pracuj.pl/kalkulator-wynagrodzen/*)\n",
    "\n",
    "Średnie wynagrodzenie w branży IT w tym samym mieście. (źródło: *https://bulldogjob.pl/it-report/2024/zarobki-w-it#general-zarobki-a-miasto-srednia_0*)"
   ]
  },
  {
   "cell_type": "code",
   "execution_count": null,
   "id": "7a843ce9-f25f-4dc6-a21c-10f5193a3a5f",
   "metadata": {},
   "outputs": [],
   "source": [
    "df = df.groupby(['city'])['price_per_sqm'].mean().reset_index()\n",
    "df['avg_salary'] = df['city'].map(salary_map)\n",
    "df['avg_it_salary'] = df['city'].map(it_salary_map)\n",
    "df['m2_per_salary'] = df['price_per_sqm'] / df['avg_salary']\n",
    "df['m2_per_it_salary'] = df['price_per_sqm'] / df['avg_it_salary']\n",
    "\n",
    "df = df.sort_values(by = 'm2_per_it_salary')\n",
    "df = df.dropna(subset = 'm2_per_it_salary')\n",
    "\n",
    "plt.figure(figsize=(10, 8))\n",
    "    \n",
    "bar_width = 0.35\n",
    "index = np.arange(len(df))\n",
    "\n",
    "plt.bar(index, df['m2_per_salary'], bar_width, label='porównując z średnią pensją', color='skyblue')\n",
    "plt.bar(index + bar_width, df['m2_per_it_salary'], bar_width, label='porównując z średnią pensją w IT', color='orange')\n",
    "\n",
    "plt.xlabel('miasto')\n",
    "plt.title('Rozkład ile średnich pensji (na rękę) trzeba, aby kupic 1 metr kwadratowy')\n",
    "\n",
    "plt.grid(True, axis='y', linestyle = ':', alpha=0.5)\n",
    "plt.xticks(index + bar_width / 2, df['city'], rotation = 45)\n",
    "\n",
    "plt.tight_layout()\n",
    "plt.legend()\n",
    "plt.show()"
   ]
  },
  {
   "cell_type": "markdown",
   "id": "9a3ea9b3-e241-4bf5-b5a1-afcbc54ffa0c",
   "metadata": {},
   "source": [
    "Można z tego wykresu wyciągnąć, że pracując w IT i planując kupić mieszkanie w mieście pracy, najbardziej opłaca się praca w Częstochowie, a dla ludzi spoza IT zdecydowanie najciężej będzie zakupić mieszkanie w Warszawie."
   ]
  },
  {
   "cell_type": "markdown",
   "id": "39f57029-8214-4328-802e-59d919090700",
   "metadata": {},
   "source": [
    "### Analiza Rozkładów: Materiał Budowy i Typ Budynku, a Data Budowy\n",
    "Ta funkcja rysuje histogram przedstawiający rozkład lat budowy mieszkań w zależności od materiału budowlanego.\n",
    "\n",
    "Można się spodziewać, że mieszkania z płyt betonowych będą mieć większą liczbę budowy w latach PRL-u, podczas gdy cegła będzie dominować w starych kamienicach i nowszych apartamentowcach."
   ]
  },
  {
   "cell_type": "code",
   "execution_count": null,
   "id": "3079b174-c665-48c8-9b82-a86b0b872b59",
   "metadata": {},
   "outputs": [],
   "source": [
    "plt.figure(figsize=(10,3))\n",
    "plt.title(\"Materiał budowy, a data budowy\")\n",
    "plt.hist(data_frame[data_frame['buildingMaterial'] == 'brick']['buildYear'], bins=20, label=\"Cegła\")\n",
    "plt.hist(data_frame[data_frame['buildingMaterial'] == 'concreteSlab']['buildYear'], bins=20, label=\"Płyta betonowa\")\n",
    "\n",
    "axis = plt.gca()\n",
    "axis.yaxis.set_major_formatter(tick.FuncFormatter(lambda x, _: f'{int(x):,}'.replace(',', ' ')))\n",
    "\n",
    "plt.legend()\n",
    "plt.tight_layout()\n",
    "plt.show()"
   ]
  },
  {
   "cell_type": "markdown",
   "id": "ee7b0841-2f70-43ac-ab35-9b1b74749e1a",
   "metadata": {},
   "source": [
    "Kolejna funkcja generuje histogramy przedstawiające rozkład lat budowy dla różnych typów budynków: bloków mieszkalnych, budynków mieszkalnych typu apartamentowego oraz kamienic.\n",
    "\n",
    "Możemy się spodziewać, że bloki mieszkalne były budowane w szczególności w latach PRL-u, kamienice nawet w czasach jeszcze przedwojnennych, a apartamentowce są ostatnio coraz popularniejszą opcją."
   ]
  },
  {
   "cell_type": "code",
   "execution_count": null,
   "id": "8ba3c0db-c437-4fe1-aa81-eebd2c32fefa",
   "metadata": {},
   "outputs": [],
   "source": [
    "plt.figure(figsize=(10,3))\n",
    "plt.title(\"Typ budynku, a data budowy\")\n",
    "plt.hist(data_frame[data_frame['type'] == 'blockOfFlats']['buildYear'], bins=20, label=\"blok mieszkalny\")\n",
    "plt.hist(data_frame[data_frame['type'] == 'apartmentBuilding']['buildYear'], bins=20, label=\"apartmentowiec\")\n",
    "plt.hist(data_frame[data_frame['type'] == 'tenement']['buildYear'], bins=20, label=\"kamienica\")\n",
    "    \n",
    "axis = plt.gca()\n",
    "axis.yaxis.set_major_formatter(tick.FuncFormatter(lambda x, _: f'{int(x):,}'.replace(',', ' ')))\n",
    "    \n",
    "plt.legend()\n",
    "plt.tight_layout()\n",
    "plt.show()"
   ]
  },
  {
   "cell_type": "markdown",
   "id": "86b7f0a3-4e17-4d39-ab56-5cec364a9da6",
   "metadata": {},
   "source": [
    "### Analiza Rozkładu Pięter w Budynkach\n",
    "Funkcja ta analizuje zależność między piętrem mieszkania a liczbą pięter w budynku, przedstawiając to za pomocą wykresu punktowego, gdzie kolor punktów reprezentuje liczbę mieszkań na danym piętrze."
   ]
  },
  {
   "cell_type": "code",
   "execution_count": null,
   "id": "970daee7-95ac-4d43-b171-c3e7bc385c52",
   "metadata": {},
   "outputs": [],
   "source": [
    "plt.figure(figsize = (8,8))\n",
    "\n",
    "df = data_frame.groupby(['floor', 'floorCount'])['price'].count().reset_index()\n",
    "df = df.sort_values(by = 'floor', ascending = True)\n",
    "\n",
    "plt.xlabel('Ilość pięter budynku')\n",
    "plt.ylabel('Piętro mieszkania')\n",
    "plt.scatter(df['floorCount'], df['floor'], c=df['price'], cmap='coolwarm', s=80, marker='s')\n",
    "plt.show()"
   ]
  },
  {
   "cell_type": "markdown",
   "id": "fcd97b4f-ffe5-47cd-b971-cfbadf07cbf0",
   "metadata": {},
   "source": [
    "### Analiza cech mieszkań\n",
    "Porównanie mieszkań z wybranymi cechami w różnych miastach oraz ich wpływu na ceny mieszkań.\n",
    "\n",
    "Następujący kod generuje wykresy słupkowe przedstawiające procentowy udział mieszkań z wybranymi cechami (np. balkon, miejsce parkingowe) w różnych miastach."
   ]
  },
  {
   "cell_type": "code",
   "execution_count": null,
   "id": "b181b11c-1959-489c-a5b9-6020de87ee18",
   "metadata": {},
   "outputs": [],
   "source": [
    "def get_feature_stats(feature):\n",
    "    featureStats = pd.DataFrame(data_frame[data_frame[feature] == 1].groupby(['city'])[feature].count()).reset_index()\n",
    "    featureStats['all'] = pd.DataFrame(data_frame.groupby(['city'])['price'].count()).reset_index().rename({'price': 'all'}, axis=1)['all']\n",
    "    featureStats['percentage'] = featureStats[feature] / featureStats['all']\n",
    "    return featureStats.sort_values(['percentage'], ascending=True)\n",
    "\n",
    "features = ['hasParkingSpace', 'hasBalcony', 'hasElevator', 'hasSecurity', 'hasStorageRoom']\n",
    "fig = plt.figure(figsize = (10, 6))\n",
    "i = 0\n",
    "for feature in features:\n",
    "    i += 1\n",
    "    subplot = fig.add_subplot(2,3,i)\n",
    "    stats = get_feature_stats(feature)\n",
    "    subplot.set_title(feature)\n",
    "    subplot.barh(stats['city'], stats['percentage'], color = 'skyblue')\n",
    "    subplot.set_xlim(0,1)\n",
    "    subplot.xaxis.set_major_formatter(tick.PercentFormatter(1))\n",
    "    subplot.grid(True, axis = 'x', linestyle = ':', alpha = 0.5)\n",
    "\n",
    "plt.subplots_adjust(wspace = 0.8)\n",
    "plt.tight_layout()\n",
    "plt.show()"
   ]
  },
  {
   "cell_type": "markdown",
   "id": "f465c37f-d258-44d8-9fa6-1108ff23793a",
   "metadata": {},
   "source": [
    "Kolejny kod generuje wykresy porównujące średnią i medianę cen mieszkań w zależności od tego, czy mieszkanie ma daną cechę (np. balkon, miejsce parkingowe)."
   ]
  },
  {
   "cell_type": "code",
   "execution_count": null,
   "id": "425db2fc-98a2-47d3-84d2-0ed281cf91a4",
   "metadata": {},
   "outputs": [],
   "source": [
    "features = ['hasParkingSpace', 'hasBalcony', 'hasElevator', 'hasSecurity', 'hasStorageRoom']\n",
    "fig = plt.figure(figsize = (10, 6))\n",
    "i = 0\n",
    "handles = []\n",
    "labels = []\n",
    "\n",
    "for feature in features:\n",
    "    i += 1\n",
    "    subplot = fig.add_subplot(2,3,i)\n",
    "    stats = data_frame.groupby(feature)['price'].agg(\n",
    "        mean_price = 'mean',\n",
    "        median_price = 'median'\n",
    "    ).reset_index()\n",
    "\n",
    "    bar_width = 0.4\n",
    "    x = stats[feature]\n",
    "    mean_bar = subplot.bar(x - bar_width / 2, stats['mean_price'], bar_width,\n",
    "                 label = 'Średnia', color = 'skyblue')\n",
    "    median_bar = subplot.bar(x + bar_width / 2, stats['median_price'], bar_width,\n",
    "                 label = 'Mediana', color = 'orange')\n",
    "    \n",
    "    if i == 1:\n",
    "        handles.extend([mean_bar, median_bar])\n",
    "        labels.extend(['Średnia', 'Mediana'])\n",
    "\n",
    "    subplot.set_title(feature)\n",
    "    subplot.set_xlim(-0.5, 1.5)\n",
    "    subplot.set_xticks([0, 1])\n",
    "    subplot.set_xticklabels(['no', 'yes'])\n",
    "    subplot.grid(True, axis = 'y', linestyle = ':', alpha = 0.5)\n",
    "    \n",
    "plt.subplots_adjust(wspace = 0.8)\n",
    "plt.tight_layout()\n",
    "plt.legend(handles, labels, loc = 'lower right', bbox_to_anchor = (2.2, 0.3), ncol = 2)\n",
    "plt.show()"
   ]
  },
  {
   "cell_type": "markdown",
   "id": "7856ec74-0990-421c-99df-87d6bf3504ff",
   "metadata": {},
   "source": [
    "### Analiza zmian cen mieszkań w czasie\n",
    "Kod wizualizuje zmiany średniej i mediany cen mieszkań w czasie."
   ]
  },
  {
   "cell_type": "code",
   "execution_count": null,
   "id": "5e050cf8-a23a-45e5-8a8b-6b9102da90ad",
   "metadata": {},
   "outputs": [],
   "source": [
    "df_mean = data_frame.groupby('date')['price'].mean().reset_index()\n",
    "df_median = data_frame.groupby('date')['price'].median().reset_index()\n",
    "\n",
    "plt.figure(figsize=(10, 5))\n",
    "plt.plot(df_mean['date'], df_mean['price'], marker='o', label='Średnia')\n",
    "plt.plot(df_median['date'], df_median['price'], marker='o', label='Mediana', linestyle='--')\n",
    "\n",
    "plt.xlabel('Data')\n",
    "plt.ylabel('Cena mieszkań')\n",
    "plt.title('Zmiana ceny mieszkań w czasie')\n",
    "\n",
    "axis = plt.gca()\n",
    "axis.yaxis.set_major_formatter(tick.FuncFormatter(lambda x, _: f'{int(x):,}'.replace(',', ' ')))\n",
    "\n",
    "plt.grid(True, axis='y', linestyle='--', alpha=0.5)\n",
    "\n",
    "plt.legend()\n",
    "plt.tight_layout()\n",
    "plt.show()"
   ]
  },
  {
   "cell_type": "markdown",
   "id": "ca5aee05-b39a-4d2a-9357-1f7141bbaf2a",
   "metadata": {},
   "source": [
    "### Analiza wpływu odległości punktów użyteczności publicznej na cenę mieszkania\n",
    "Niżej podany kod przestawia wykres zależności odległości od najbliższej szkoły."
   ]
  },
  {
   "cell_type": "code",
   "execution_count": null,
   "id": "4e9f11da-aa72-4b1a-ac38-db012c4e9b43",
   "metadata": {},
   "outputs": [],
   "source": [
    "df = data_frame\n",
    "df['distance_group'] = pd.cut(df['schoolDistance'], bins = 15)\n",
    "df['mid_point'] = df['distance_group'].apply(lambda x: round(x.mid, 1))\n",
    "df_school = df.groupby('mid_point', observed=True)['price'].mean().reset_index()\n",
    "\n",
    "plt.figure(figsize = (10,5))\n",
    "plt.plot(df_school['mid_point'], df_school['price'], marker = 'o')\n",
    "   \n",
    "plt.xlabel('Odległość od szkoły (km)')\n",
    "plt.ylabel('Cena mieszkań')\n",
    "plt.title('Zmiana ceny mieszkań w zależności od odległości od szkoły')\n",
    "\n",
    "axis = plt.gca()\n",
    "axis.yaxis.set_major_formatter(tick.FuncFormatter(lambda x, _: f'{int(x):,}'.replace(',', ' ')))\n",
    "\n",
    "plt.grid(True, axis='y', linestyle='--', alpha=0.5)\n",
    "plt.xticks(rotation = 45)\n",
    "\n",
    "plt.tight_layout()\n",
    "plt.show()"
   ]
  },
  {
   "cell_type": "markdown",
   "id": "3d0a848c-4081-40e3-8c6d-44790618421d",
   "metadata": {},
   "source": [
    "Mimo że wydawałoby się to ważne, żeby szkoła była blisko, to nie widać zależności między odległością od szkoły a ceną mieszkania.\n",
    "\n",
    "Następny kod przedstawia zależność między odległością od szkoły wyższej, a ceną mieszkania."
   ]
  },
  {
   "cell_type": "code",
   "execution_count": null,
   "id": "dcb4c882-5382-4974-b540-82f656af45c0",
   "metadata": {},
   "outputs": [],
   "source": [
    "df['distance_group'] = pd.cut(df['collegeDistance'], bins = 15)\n",
    "df['mid_point'] = df['distance_group'].apply(lambda x: round(x.mid, 1))\n",
    "df_college = df.groupby('mid_point', observed=True)['price'].mean().reset_index()\n",
    "\n",
    "plt.figure(figsize = (10,5))\n",
    "plt.plot(df_college['mid_point'], df_college['price'], marker = 'o')\n",
    "    \n",
    "plt.xlabel('Odległość od szkoły wyższej (km)')\n",
    "plt.ylabel('Cena mieszkań')\n",
    "plt.title('Zmiana ceny mieszkań w zależności od odległości od szkoły wyższej')\n",
    "\n",
    "axis = plt.gca()\n",
    "axis.yaxis.set_major_formatter(tick.FuncFormatter(lambda x, _: f'{int(x):,}'.replace(',', ' ')))\n",
    "\n",
    "plt.grid(True, axis='y', linestyle='--', alpha=0.5)\n",
    "plt.xticks(rotation = 45)\n",
    "\n",
    "plt.tight_layout()\n",
    "plt.show()"
   ]
  },
  {
   "cell_type": "markdown",
   "id": "5e0a664d-8aac-4a06-8366-4ebfefbf8299",
   "metadata": {},
   "source": [
    "Następujący kod przedstawia wykres zależności ilości punktów użyteczności publicznej (POI - points of interest) - np. szkół, sklepów - w odległości 500m od mieszkania, a jego odległości od centrum miasta, w którym sie znajduje."
   ]
  },
  {
   "cell_type": "code",
   "execution_count": null,
   "id": "75054ae2-f29f-4684-bdba-20a28dbb52df",
   "metadata": {},
   "outputs": [],
   "source": [
    "df['distance_group'] = pd.cut(df['centreDistance'], bins = 15)\n",
    "df['mid_point'] = df['distance_group'].apply(lambda x: round(x.mid, 1))\n",
    "df_poi = df.groupby('mid_point', observed=True)['poiCount'].mean().reset_index()\n",
    "\n",
    "plt.figure(figsize = (10,5))\n",
    "plt.plot(df_poi['mid_point'], df_poi['poiCount'], marker = 'o')\n",
    "    \n",
    "plt.xlabel('Odległość od centrum (km)')\n",
    "plt.ylabel('Ilość POI')\n",
    "plt.title('Ilość POI w zależności od odległości od centrum')\n",
    "\n",
    "axis = plt.gca()\n",
    "axis.yaxis.set_major_formatter(tick.FuncFormatter(lambda x, _: f'{int(x):,}'.replace(',', ' ')))\n",
    "\n",
    "plt.grid(True, axis='y', linestyle='--', alpha=0.5)\n",
    "plt.xticks(rotation = 45)\n",
    " \n",
    "plt.tight_layout()\n",
    "plt.show()"
   ]
  },
  {
   "cell_type": "markdown",
   "id": "954d89ab-64f2-4384-929f-0f5c3b840b14",
   "metadata": {},
   "source": [
    "Można zauważyć, że w centrum jest średnio więcej POI, niż na obrzeżach, co jest dość oczywiste.\n",
    "\n",
    "### Analiza wpływu odległości od centrum na cenę mieszkania\n",
    "Następny kod generuje wykres zależności między odległością od centrum, a ceną mieszkania."
   ]
  },
  {
   "cell_type": "code",
   "execution_count": null,
   "id": "c8c98b64-cf41-48a1-ae59-a691cb47cdf0",
   "metadata": {},
   "outputs": [],
   "source": [
    "df_centre = df.groupby('mid_point', observed=True)['price'].mean().reset_index()\n",
    "\n",
    "plt.figure(figsize = (10,5))\n",
    "plt.plot(df_centre['mid_point'], df_centre['price'], marker = 'o')\n",
    "    \n",
    "plt.xlabel('Odległość od centrum (km)')\n",
    "plt.ylabel('Cena mieszkań')\n",
    "plt.title('Zmiana ceny mieszkań w zależności od odległości od centrum')\n",
    "\n",
    "axis = plt.gca()\n",
    "axis.yaxis.set_major_formatter(tick.FuncFormatter(lambda x, _: f'{int(x):,}'.replace(',', ' ')))\n",
    "\n",
    "plt.grid(True, axis='y', linestyle='--', alpha=0.5)\n",
    "plt.xticks(rotation = 45)\n",
    "\n",
    "plt.tight_layout()\n",
    "plt.show()"
   ]
  },
  {
   "cell_type": "markdown",
   "id": "4d02b498-fd38-44ff-b529-be722a5a919c",
   "metadata": {},
   "source": [
    "Wykres nie wydaje sie wykazywać żadnej zależności między ceną mieszkania, a odległością od centrum miasta.\n",
    "\n",
    "Kolejny kod będzie porównywał tym razem cenę metra kwadratowego mieszkania."
   ]
  },
  {
   "cell_type": "code",
   "execution_count": null,
   "id": "2706bbd7-99fa-4103-8a97-6d138a2c9efd",
   "metadata": {},
   "outputs": [],
   "source": [
    "df['price_per_m2'] = df['price']/df['squareMeters']\n",
    "df_centre_m2 = df.groupby('mid_point', observed=True)['price_per_m2'].mean().reset_index()\n",
    "\n",
    "plt.figure(figsize = (10,5))\n",
    "plt.plot(df_centre_m2['mid_point'], df_centre_m2['price_per_m2'], marker = 'o')\n",
    "    \n",
    "plt.xlabel('Odległość od centrum (km)')\n",
    "plt.ylabel('Cena metra kwadratowego')\n",
    "plt.title('Zmiana ceny metra kwadratowego w zależności od odległości od centrum')\n",
    "\n",
    "axis = plt.gca()\n",
    "axis.yaxis.set_major_formatter(tick.FuncFormatter(lambda x, _: f'{int(x):,}'.replace(',', ' ')))\n",
    "\n",
    "plt.grid(True, axis='y', linestyle='--', alpha=0.5)\n",
    "plt.xticks(rotation = 45)\n",
    "\n",
    "plt.tight_layout()\n",
    "plt.show()"
   ]
  },
  {
   "cell_type": "markdown",
   "id": "8d28e970-0c90-40b8-900f-39037e1921b4",
   "metadata": {},
   "source": [
    "Wykres również nie wykazuje żadnej zależności, ale różni się znacząco od poprzedniego dla bardziej oddalonych mieszkań. Sprawdzę czy jest to jakoś ze sobą zależne na kolejnym wykresie generowanym przez następujący kod."
   ]
  },
  {
   "cell_type": "code",
   "execution_count": null,
   "id": "390cf377-89bf-434e-9e81-acf3ee2f9d9b",
   "metadata": {},
   "outputs": [],
   "source": [
    "df_size = df.groupby('mid_point', observed=True)['squareMeters'].mean().reset_index()\n",
    "\n",
    "plt.figure(figsize = (12,6))\n",
    "plt.plot(df_size['mid_point'], df_size['squareMeters'], marker = 'o')\n",
    "    \n",
    "plt.xlabel('Odległość od centrum (km)')\n",
    "plt.ylabel('Średni metraż mieszkań')\n",
    "plt.title('Wielkość mieszkań w zależności od odległości od centrum')\n",
    "\n",
    "plt.show()"
   ]
  },
  {
   "cell_type": "markdown",
   "id": "20b9b0f8-65f7-44f7-bcf2-07ca5d7a7a35",
   "metadata": {},
   "source": [
    "Pomijając odstający punkt dla 14 km, możemy zauważyć, że w dalszej odległości od centrum (na przedmieściach) mieszkania są średnio większe od tych w centrum. Jest to zgodne z obserwacją, że miasta rozbudowują się na zewnątrz, a deweloperzy mają większą przestrzeń do zagospodarowania w obrębie przedmieść, co sprzyja budowie większych nieruchomości."
   ]
  },
  {
   "cell_type": "markdown",
   "id": "b2b155e6-2c28-4480-824c-0248c1c44b11",
   "metadata": {},
   "source": [
    "## Korelacja między danymi"
   ]
  },
  {
   "cell_type": "code",
   "execution_count": null,
   "id": "ff2a1d07-7d26-4208-a23c-f3d8a626c69f",
   "metadata": {},
   "outputs": [],
   "source": [
    "type_price_avg = df.groupby('type')['price'].mean()\n",
    "type_sorted = type_price_avg.sort_values(ascending=True).index\n",
    "type_mapping = {type_: idx for idx, type_ in enumerate(type_sorted)}\n",
    "df['type_numerical'] = df['type'].map(type_mapping)\n",
    "    \n",
    "city_price_avg = df.groupby('city')['price'].mean()\n",
    "city_sorted = city_price_avg.sort_values(ascending=True).index\n",
    "city_mapping = {city: idx for idx, city in enumerate(city_sorted)}\n",
    "df['city_numerical'] = df['city'].map(city_mapping)\n",
    "\n",
    "df['price_per_m2'] = df['price']/df['squareMeters']\n",
    "\n",
    "numeric_cols = ['price','price_per_m2', 'squareMeters',  'rooms', 'floor', 'floorCount', 'buildYear',\n",
    "                'centreDistance', 'poiCount', 'schoolDistance', 'collegeDistance',\n",
    "                'hasParkingSpace', 'hasBalcony', 'hasElevator', 'hasSecurity',\n",
    "                'hasStorageRoom', 'type_numerical', 'city_numerical']\n",
    "\n",
    "correlation = df[numeric_cols].corr()\n",
    "\n",
    "plt.figure(figsize=(10, 10))\n",
    "sns.heatmap(correlation, annot=True, cmap='coolwarm', fmt=\".2f\")\n",
    "plt.title('Macierz korelacji')\n",
    "\n",
    "plt.tight_layout()\n",
    "plt.show()"
   ]
  },
  {
   "cell_type": "markdown",
   "id": "aefcc61f-b465-4412-8ea4-4bc2e4960840",
   "metadata": {},
   "source": [
    "**Wnioski**:\n",
    "\n",
    "- Z powyższej macierzy korelacji wynika, że największy wpływ na cenę mieszkania ma jego metraż i ilość pokoi (co jest dość oczywiste), miasto, w którym się znajduje, oraz posiadanie windy.\n",
    "\n",
    "- Zaskakujące może się wydawać, że cena nie zależy znacząco od odległości od centrum, szkół i uniwersytetów\n",
    "\n",
    "- Inne ciekawe wnioski to takie, że nowo wybudowane mieszkania są średnio dalej od centrum, szkół oraz uniwersytetów. Mają za to średnio więcej balkonów i wind, a mniej magazynów.\n"
   ]
  },
  {
   "cell_type": "markdown",
   "id": "ed2e58d1-50b1-4dc6-b64b-f8d054fa7889",
   "metadata": {},
   "source": [
    "# Przewidywanie wyniku\n",
    "Za pomocą regresji wielorakiej możemy spróbować przewidzieć cenę mieszkania, korzystając z jego parametrów, takich jak powierzchnia, liczba pokoi, rok budowy, piętro czy inne wartości liczbowe opisujące nieruchomość.\n",
    "\n",
    "Regresja wieloraka pozwala modelować zależność między zmienną zależną (w tym przypadku ceną mieszkania) a wieloma zmiennymi niezależnymi (np. powierzchnią czy liczbą pokoi). Celem jest zbudowanie modelu matematycznego, który najlepiej odwzoruje tę zależność, umożliwiając przewidywanie cen dla nowych, nieznanych obserwacji.\n",
    "\n",
    "Na początku importujemy potrzebne biblioteki, a później wybieramy te liczbowe parametry mieszkania, które mogą mieć wpływ na cenę i usuwamy z nich wszelkie nulle."
   ]
  },
  {
   "cell_type": "code",
   "execution_count": null,
   "id": "e72cc69a-69a0-44cb-871b-146ac90f245d",
   "metadata": {},
   "outputs": [],
   "source": [
    "from sklearn.linear_model import LinearRegression\n",
    "from sklearn.model_selection import train_test_split\n",
    "\n",
    "numeric_cols = ['squareMeters', 'floor', 'buildYear',\n",
    "            'centreDistance', 'poiCount', 'schoolDistance', 'collegeDistance',\n",
    "            'hasParkingSpace', 'hasBalcony', 'hasElevator', 'hasSecurity',\n",
    "            'hasStorageRoom', 'type_numerical', 'city_numerical']\n",
    "\n",
    "df = df.dropna(subset = numeric_cols)"
   ]
  },
  {
   "cell_type": "markdown",
   "id": "cf32098b-0c56-4b6b-8be8-91d2b90b3bbd",
   "metadata": {},
   "source": [
    "Następnie dzielimy dane na treningowe i testowe. Robimy to, abyśmy mogli przetestować nasz model na nowych danych."
   ]
  },
  {
   "cell_type": "code",
   "execution_count": null,
   "id": "dcff9609-4e0e-4f3a-bb75-5c5df67da522",
   "metadata": {},
   "outputs": [],
   "source": [
    "y = df['price']\n",
    "X = df[numeric_cols]\n",
    "\n",
    "X_train, X_test, y_train, y_test = train_test_split(X, y, test_size = 0.25, random_state = 0)"
   ]
  },
  {
   "cell_type": "markdown",
   "id": "b6804ab5-2f68-453d-ac7b-3d977a9deb16",
   "metadata": {},
   "source": [
    "Budujemy później i oceniamy nasz model regresji przy użyciu danych treningowych i testowych."
   ]
  },
  {
   "cell_type": "code",
   "execution_count": null,
   "id": "a47ac2bf-7694-452b-bb9c-336168f2bbe4",
   "metadata": {},
   "outputs": [],
   "source": [
    "reg = LinearRegression()\n",
    "reg.fit(X_train, y_train)\n",
    "score = reg.score(X_test, y_test)\n",
    "print(score)"
   ]
  },
  {
   "cell_type": "markdown",
   "id": "75bf8780-f018-453a-9771-527cff4228ff",
   "metadata": {},
   "source": [
    "Funkcja score oblicza współczynnik determinacji R^2, który mierzy, jak dobrze model wyjaśnia zmienność zmiennej zależnej na danych testowych.\n",
    "\n",
    "Następny kod przedstawi wyniki naszych przewidywań na wykresie punktowym."
   ]
  },
  {
   "cell_type": "code",
   "execution_count": null,
   "id": "487c2c04-bccd-4ce2-80ef-f8ee75329e0f",
   "metadata": {},
   "outputs": [],
   "source": [
    "reg_y_pred = reg.predict(X_test)\n",
    "\n",
    "min_val = min(min(y_test), min(reg_y_pred))\n",
    "max_val = max(max(y_test), max(reg_y_pred))\n",
    "ideal_line = np.linspace(min_val, max_val, 100)\n",
    "\n",
    "plt.figure(figsize=(10, 10))\n",
    "sns.scatterplot(x=y_test, y=reg_y_pred)\n",
    "plt.plot(ideal_line, ideal_line, '--', color='red', label='Idealny wynik')\n",
    "\n",
    "axis = plt.gca()\n",
    "axis.xaxis.set_major_formatter(tick.FuncFormatter(lambda x, _: f'{int(x):,}'.replace(',', ' ')))\n",
    "axis.yaxis.set_major_formatter(tick.FuncFormatter(lambda x, _: f'{int(x):,}'.replace(',', ' ')))\n",
    "\n",
    "plt.xlabel('Faktyczne wartości')\n",
    "plt.ylabel('Przewidziane wartości')\n",
    "plt.title('Faktyczne vs przewidywane wartości')\n",
    "plt.legend()\n",
    "plt.show()"
   ]
  },
  {
   "cell_type": "markdown",
   "id": "a3100108-7591-44ea-a83d-26f1524f96aa",
   "metadata": {},
   "source": [
    "Na kolejnym wykresie przedstawione będą różnice między idealnym wynikiem, a naszymi predykcjami."
   ]
  },
  {
   "cell_type": "code",
   "execution_count": null,
   "id": "65080886-dcf8-4dad-ab5b-2928541f1a26",
   "metadata": {},
   "outputs": [],
   "source": [
    "residuals = y_test - reg_y_pred\n",
    "plt.scatter(reg_y_pred, residuals)\n",
    "\n",
    "axis = plt.gca()\n",
    "axis.xaxis.set_major_formatter(tick.FuncFormatter(lambda x, _: f'{int(x):,}'.replace(',', ' ')))\n",
    "axis.yaxis.set_major_formatter(tick.FuncFormatter(lambda x, _: f'{int(x):,}'.replace(',', ' ')))\n",
    "\n",
    "plt.title('Wykres reszt')\n",
    "plt.xlabel('Przewidziane wartości')\n",
    "plt.ylabel('Reszty')\n",
    "plt.axhline(y=0, color='r', linestyle='--')\n",
    "plt.show()"
   ]
  },
  {
   "cell_type": "markdown",
   "id": "e2549b2d-81c5-4b15-a9e5-39e1dafc90a9",
   "metadata": {},
   "source": [
    "Przykładowe użycie modelu."
   ]
  },
  {
   "cell_type": "code",
   "execution_count": null,
   "id": "647bab18-60b5-45e0-8391-a9d3f3cff65d",
   "metadata": {},
   "outputs": [],
   "source": [
    "new_data = np.array([70, 15, 2024, 5, 10, 2, 3, 0, 1, 1, 0, 0, 2, 10])\n",
    "new_data_df = pd.DataFrame([new_data], columns=X.columns)\n",
    "prediction = reg.predict(new_data_df).round(2)\n",
    "print(prediction)"
   ]
  },
  {
   "cell_type": "markdown",
   "id": "7e5a5309-75bb-4285-ba33-2826749bbd30",
   "metadata": {},
   "source": [
    "# Podsumowanie\n",
    "W notebooku przeanalizowałem dane, przygotowałem je do analizy, zwizualizowałem kluczowe zależności i przetestowałem model predykcyjny. Uzyskane wyniki analziy dostarczają wartościowych informacji i stanowią punkt wyjścia do dalszych analiz."
   ]
  }
 ],
 "metadata": {
  "kernelspec": {
   "display_name": "Python 3 (ipykernel)",
   "language": "python",
   "name": "python3"
  },
  "language_info": {
   "codemirror_mode": {
    "name": "ipython",
    "version": 3
   },
   "file_extension": ".py",
   "mimetype": "text/x-python",
   "name": "python",
   "nbconvert_exporter": "python",
   "pygments_lexer": "ipython3",
   "version": "3.11.9"
  }
 },
 "nbformat": 4,
 "nbformat_minor": 5
}
